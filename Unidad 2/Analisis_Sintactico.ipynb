{
 "cells": [
  {
   "cell_type": "markdown",
   "metadata": {},
   "source": [
    "## Análisis sintáctico\n",
    "\n",
    "### Introducción\n",
    "\n",
    "### Funciones del analizador sintáctico\n",
    "\n",
    "### Gramáticas\n",
    "\n",
    "### Árboles de derivación\n",
    "\n",
    "### Ejemplos de parser"
   ]
  },
  {
   "cell_type": "code",
   "execution_count": 1,
   "metadata": {},
   "outputs": [
    {
     "name": "stdout",
     "output_type": "stream",
     "text": [
      "Encountered a start tag: html\n",
      "Encountered a start tag: head\n",
      "Encountered a start tag: title\n",
      "Encountered some data  : Test\n",
      "Encountered an end tag : title\n",
      "Encountered an end tag : head\n",
      "Encountered a start tag: body\n",
      "Encountered a start tag: h1\n",
      "Encountered some data  : Parse me!\n",
      "Encountered an end tag : h1\n",
      "Encountered an end tag : body\n",
      "Encountered an end tag : html\n"
     ]
    }
   ],
   "source": [
    "from html.parser import HTMLParser\n",
    "\n",
    "class MyHTMLParser(HTMLParser):\n",
    "    def handle_starttag(self, tag, attrs):\n",
    "        print(\"Encountered a start tag:\", tag)\n",
    "\n",
    "    def handle_endtag(self, tag):\n",
    "        print(\"Encountered an end tag :\", tag)\n",
    "\n",
    "    def handle_data(self, data):\n",
    "        print(\"Encountered some data  :\", data)\n",
    "\n",
    "parser = MyHTMLParser()\n",
    "parser.feed('<html><head><title>Test</title></head>'\n",
    "            '<body><h1>Parse me!</h1></body></html>')"
   ]
  },
  {
   "cell_type": "code",
   "execution_count": null,
   "metadata": {},
   "outputs": [],
   "source": [
    "# Utilizando Beautiful Soup\n",
    "\n",
    "from bs4 import BeautifulSoup\n",
    "\n",
    "html_doc =\"\"\"\n",
    "<html><head><title>The Dormouse's story</title></head>\n",
    "<body>\n",
    "<p class=\"title\"><b>The Dormouse's story</b></p>\n",
    "\n",
    "<p class=\"story\">Once upon a time there were three little sisters; and their names were\n",
    "<a href=\"http://example.com/elsie\" class=\"sister\" id=\"link1\">Elsie</a>,\n",
    "<a href=\"http://example.com/lacie\" class=\"sister\" id=\"link2\">Lacie</a> and\n",
    "<a href=\"http://example.com/tillie\" class=\"sister\" id=\"link3\">Tillie</a>;\n",
    "and they lived at the bottom of a well.</p>\n",
    "\n",
    "<p class=\"story\">...</p>\n",
    "\"\"\"\n",
    "soup = BeautifulSoup(html_doc, 'html.parser')\n",
    "\n",
    "#print(soup.prettify())\n",
    "\n",
    "print(soup.title)\n",
    "# <title>The Dormouse's story</title>\n",
    "\n",
    "print(soup.title.name)\n",
    "# u'title'\n",
    "\n",
    "print(soup.title.string)\n",
    "# u'The Dormouse's story'\n",
    "\n",
    "print(soup.title.parent.name)\n",
    "# u'head'\n",
    "\n",
    "print(soup.p)\n",
    "# <p class=\"title\"><b>The Dormouse's story</b></p>\n",
    "\n",
    "print(soup.p['class'])\n",
    "# u'title'\n",
    "\n",
    "print(soup.a)\n",
    "# <a class=\"sister\" href=\"http://example.com/elsie\" id=\"link1\">Elsie</a>\n",
    "\n",
    "print(soup.find_all('a'))\n",
    "# [<a class=\"sister\" href=\"http://example.com/elsie\" id=\"link1\">Elsie</a>,\n",
    "#  <a class=\"sister\" href=\"http://example.com/lacie\" id=\"link2\">Lacie</a>,\n",
    "#  <a class=\"sister\" href=\"http://example.com/tillie\" id=\"link3\">Tillie</a>]\n",
    "\n",
    "print(soup.find(id=\"link3\"))\n",
    "# <a class=\"sister\" href=\"http://example.com/tillie\" id=\"link3\">Tillie</a>"
   ]
  }
 ],
 "metadata": {
  "kernelspec": {
   "display_name": "Python 3",
   "language": "python",
   "name": "python3"
  },
  "language_info": {
   "codemirror_mode": {
    "name": "ipython",
    "version": 3
   },
   "file_extension": ".py",
   "mimetype": "text/x-python",
   "name": "python",
   "nbconvert_exporter": "python",
   "pygments_lexer": "ipython3",
   "version": "3.7.3"
  }
 },
 "nbformat": 4,
 "nbformat_minor": 2
}
