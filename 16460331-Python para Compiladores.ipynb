{
 "cells": [
  {
   "cell_type": "markdown",
   "metadata": {},
   "source": [
    "\n",
    "### __I.1 Fundamentos Básicos de Python__\n",
    "Python es un lenguaje de scripting de alto nivel orientado a objetos. Fue creado por Guido van Rossum y liberado en 1991. Fue diseñado pensando el la \"leibilidad\" del código, tiendo una similitud al lenguaje Inglés, con una sintaxis que permite a los programadores expresear conceptos en pocas líneas de código. Permite trabajar rápidadmente e integrar sistemas más eficientemente. Existen dos versiones de Python: Python 2.x y Python 3.x, ambas versisones son diferentes. En este diplomado se hace uso de Python 3.x. \n",
    "\n",
    "#### __Sintaxis__\n",
    "<p align = \"justify\">\n",
    "Los programas en python pueden ser escritos en cualquier editor de texto o entornos de desarrollo específicos para Python, éstos son guardados con la extensión .py. Éstos no requieren una linea inicial. Pueden ser ejecutados desde una linea de comandos **python file.py**. No se utilizan llaves {} o puntos y coma ;  En lugar de los llaves los bloques son identificados teniendo la misma identación. Éste no cuenta con una función principal definida por defecto, pero por convención se recomienda definirla y mandarla llamar primeramente. A continuación se presenta un plantilla básica de un script de python a través del típico \"Hola Mundo\".\n",
    "</p>"
   ]
  },
  {
   "cell_type": "code",
   "execution_count": 1,
   "metadata": {},
   "outputs": [
    {
     "name": "stdout",
     "output_type": "stream",
     "text": [
      "Hola mundo\n"
     ]
    }
   ],
   "source": [
    "print(\"Hola mundo\")\n"
   ]
  },
  {
   "cell_type": "markdown",
   "metadata": {},
   "source": [
    "Como se puede observar la sentencia \n",
    "```python\n",
    "if __nam__ == \"__main__\": \n",
    "    main()\n",
    "```\n",
    "asegura que el código en el bloque if se ejecute solo cuando el archivo en el que se encuentra es ejecutado directamente. Esto es, cada archivo de python (modulo) obtiene un atributo especial llamado ``` __name__```, el cual regrese el nombre del módulo. Si el modulo es ejecutado como el programa principal, el interprete asignará el estring ``` __main__ ``` a la variable ``` __name__ ```. Si la condición se cumple, entonces se manda llamar y ejecutar el código dentro de este a través de una funcion la cual se llamó en este caso ``` main ```. Si el módulo no es ejecutado como programa principal, sino que es importado desde otro módulo, el atributo ``` __name__ ``` pasa a contener el nombre del archivo en si."
   ]
  },
  {
   "cell_type": "markdown",
   "metadata": {},
   "source": [
    "#### __Variables y Tipos de Datos__\n",
    "<p align = \"justify\">\n",
    "Las Variables en Python sigue la nomenclatura estándar alfanumerica comenzando por una letra o un guión bajo . Son sensibles al uso de mayúscualas y minúsculas. Éstas no necesitan ser declaradas y los tipos de datos se infieren a través del valor asignado. Los tipos de datos compuestos estándar se pueden clasificar como los dos siguientes:\n",
    "<ul>\n",
    "<li>Mutable: su contenido (o dicho valor) puede cambiarse en tiempo de ejecución.</li>\n",
    "<li>Inmutable: su contenido (o dicho valor) no puede cambiarse en tiempo de ejecución.</li>    \n",
    "</ul>\n",
    "A continuación se muestra una lista de los tipos que están integrados en Python. Se pueden resumir los tipos de datos compuestos estándar en la siguiente tabla:\n",
    "</p>\n",
    "<table>\n",
    "    <tr>\n",
    "        <td>Categoría</td>\n",
    "        <td>Nombre</td>\n",
    "        <td>Descripción</td>\n",
    "        <td>Ejemplo</td>\n",
    "    </tr>\n",
    "    <tr>\n",
    "        <td>Inmutable</td>\n",
    "        <td>int</td>\n",
    "        <td>entero</td>\n",
    "        <td>edad = 26</td>\n",
    "    </tr>\n",
    "    <tr>\n",
    "        <td>Inmutable</td>\n",
    "        <td>long</td>\n",
    "        <td>entero long</td>\n",
    "        <td>entero = 23L</td>\n",
    "    </tr>\n",
    "    <tr>\n",
    "        <td>Inmutable</td>\n",
    "        <td>float</td>\n",
    "        <td>coma flotante</td>\n",
    "        <td>real = 0.2703</td>\n",
    "    </tr>\n",
    "    <tr>\n",
    "        <td>Inmutable</td>\n",
    "        <td>complex</td>\n",
    "        <td>complejos (tienen parte imaginaria)</td>\n",
    "        <td>complejo = 2.1 + 7.8j</td>\n",
    "    </tr>\n",
    "    <tr>\n",
    "        <td>Inmutable</td>\n",
    "        <td>bool</td>\n",
    "        <td>booleano</td>\n",
    "        <td>bandera = True</td>\n",
    "    </tr>\n",
    "    <tr>\n",
    "        <td>Secuencias inmutables</td>\n",
    "        <td>str</td>\n",
    "        <td>cadena de caracteres</td>\n",
    "        <td>nombre = \"Paola\"</td>\n",
    "    </tr>\n",
    "    <tr>\n",
    "        <td>Secuencias inmutables</td>\n",
    "        <td>unicode</td>\n",
    "        <td>cadena de caracteres Unicode</td>\n",
    "        <td>saber_mas = u\"Atüjaa oo'omüin...\"</td>\n",
    "    </tr>\n",
    "    <tr>\n",
    "        <td>Secuencias inmutables</td>\n",
    "        <td>tuple</td>\n",
    "        <td>tuplas</td>\n",
    "        <td>valores = (\"Python\", True, \"Zope\", 5)</td>\n",
    "    </tr>\n",
    "    <tr>\n",
    "        <td>Secuencias mutables</td>\n",
    "        <td>list</td>\n",
    "        <td>lista, soporta datos heterogeneos</td>\n",
    "        <td>factura = ['pan', 'huevos', 100, 1234]</td>\n",
    "    </tr>\n",
    "    <tr>\n",
    "        <td>Mapeos</td>\n",
    "        <td>dict</td>\n",
    "        <td>diccionario</td>\n",
    "        <td>diccionario ={'python': 27, 'plone': 51}</td>\n",
    "    </tr>\n",
    "    <tr>\n",
    "        <td>Conjuntos mutables</td>\n",
    "        <td>set</td>\n",
    "        <td>conjunto, es una colección no ordenada y sin elementos repetidos</td>\n",
    "        <td>set_mutable1 = set([4, 3, 11, 7, 5, 2, 1, 4])</td>\n",
    "    </tr>\n",
    "</table>\n",
    "\n",
    "<ul>\n",
    "<li>Alcance de las variables: La mayoría de las variables en Python tiene un alcance local en su propia función o clase. Por ejemplo si define a = 1 dentro de una función, entonces la variable \"a\" estará disponible dentro de la función pero será indefinida fuera de ésta. Variables definidas dentro de la función main son accesibles sólo dentro del main pero no para funciones que se llaman desde el main. </li>\n",
    "<li>Variables Globales: Las variables globales  variables son declaradas utilizando la palabra reservada \"global\".</li>\n",
    "</ul>\n"
   ]
  },
  {
   "cell_type": "code",
   "execution_count": 2,
   "metadata": {},
   "outputs": [
    {
     "name": "stdout",
     "output_type": "stream",
     "text": [
      "La suma es:  3\n"
     ]
    }
   ],
   "source": [
    "a=1\n",
    "b=2\n",
    "\n",
    "def sum():\n",
    "    global a, b\n",
    "    c=a+b\n",
    "    return c\n",
    "\n",
    "def main():\n",
    "    resultado = sum()\n",
    "    print(\"La suma es: \", str(resultado))\n",
    "    \n",
    "\n",
    "if __name__ == \"__main__\":\n",
    "    main()"
   ]
  },
  {
   "cell_type": "markdown",
   "metadata": {},
   "source": [
    "#### __Bloques de código y estructuras de control__\n",
    "\n",
    "En esta sección se describen las estructuras de control del lenguaje Python a través de la ejemplicación práctica de éstas. \n",
    "\n",
    "##### Condicional if\n",
    "La implementación de condiciones permite incoporar el poder de ramas en un programa. A continución se ilustra el uso de la estructura if."
   ]
  },
  {
   "cell_type": "code",
   "execution_count": 3,
   "metadata": {},
   "outputs": [
    {
     "name": "stdout",
     "output_type": "stream",
     "text": [
      "Ingresa a:x\n"
     ]
    },
    {
     "ename": "ValueError",
     "evalue": "invalid literal for int() with base 10: 'x'",
     "output_type": "error",
     "traceback": [
      "\u001b[1;31m---------------------------------------------------------------------------\u001b[0m",
      "\u001b[1;31mValueError\u001b[0m                                Traceback (most recent call last)",
      "\u001b[1;32m<ipython-input-3-c8e388cd3592>\u001b[0m in \u001b[0;36m<module>\u001b[1;34m\u001b[0m\n\u001b[0;32m      6\u001b[0m \u001b[1;33m\u001b[0m\u001b[0m\n\u001b[0;32m      7\u001b[0m \u001b[1;32mif\u001b[0m \u001b[0m__name__\u001b[0m \u001b[1;33m==\u001b[0m \u001b[1;34m\"__main__\"\u001b[0m\u001b[1;33m:\u001b[0m\u001b[1;33m\u001b[0m\u001b[1;33m\u001b[0m\u001b[0m\n\u001b[1;32m----> 8\u001b[1;33m     \u001b[0mmain\u001b[0m\u001b[1;33m(\u001b[0m\u001b[1;33m)\u001b[0m\u001b[1;33m\u001b[0m\u001b[1;33m\u001b[0m\u001b[0m\n\u001b[0m",
      "\u001b[1;32m<ipython-input-3-c8e388cd3592>\u001b[0m in \u001b[0;36mmain\u001b[1;34m()\u001b[0m\n\u001b[0;32m      1\u001b[0m \u001b[1;32mdef\u001b[0m \u001b[0mmain\u001b[0m\u001b[1;33m(\u001b[0m\u001b[1;33m)\u001b[0m\u001b[1;33m:\u001b[0m\u001b[1;33m\u001b[0m\u001b[1;33m\u001b[0m\u001b[0m\n\u001b[0;32m      2\u001b[0m     \u001b[0ma\u001b[0m \u001b[1;33m=\u001b[0m \u001b[0minput\u001b[0m\u001b[1;33m(\u001b[0m\u001b[1;34m\"Ingresa a:\"\u001b[0m\u001b[1;33m)\u001b[0m\u001b[1;33m\u001b[0m\u001b[1;33m\u001b[0m\u001b[0m\n\u001b[1;32m----> 3\u001b[1;33m     \u001b[1;32mif\u001b[0m \u001b[0mint\u001b[0m\u001b[1;33m(\u001b[0m\u001b[0ma\u001b[0m\u001b[1;33m)\u001b[0m\u001b[1;33m>\u001b[0m\u001b[1;36m40\u001b[0m\u001b[1;33m:\u001b[0m\u001b[1;33m\u001b[0m\u001b[1;33m\u001b[0m\u001b[0m\n\u001b[0m\u001b[0;32m      4\u001b[0m         \u001b[0mprint\u001b[0m\u001b[1;33m(\u001b[0m\u001b[0ma\u001b[0m \u001b[1;33m+\u001b[0m \u001b[1;34m\" es mayor que 40\"\u001b[0m\u001b[1;33m)\u001b[0m\u001b[1;33m\u001b[0m\u001b[1;33m\u001b[0m\u001b[0m\n\u001b[0;32m      5\u001b[0m     \u001b[0mprint\u001b[0m\u001b[1;33m(\u001b[0m\u001b[1;34m\"Adios..\"\u001b[0m\u001b[1;33m)\u001b[0m\u001b[1;33m\u001b[0m\u001b[1;33m\u001b[0m\u001b[0m\n",
      "\u001b[1;31mValueError\u001b[0m: invalid literal for int() with base 10: 'x'"
     ]
    }
   ],
   "source": [
    "def main():\n",
    "    a = input(\"Ingresa a:\")\n",
    "    if int(a)>40:\n",
    "        print(a + \" es mayor que 40\")\n",
    "    print(\"Adios..\")\n",
    "        \n",
    "if __name__ == \"__main__\":\n",
    "    main()"
   ]
  },
  {
   "cell_type": "code",
   "execution_count": null,
   "metadata": {},
   "outputs": [],
   "source": [
    "def main():\n",
    "    a = input(\"Ingresa a:\")\n",
    "    if int(a)>40:\n",
    "        print(a + \" es mayor que 40\")\n",
    "    else:\n",
    "        print(a + \" es menor que 40\")\n",
    "    print(\"Adios..\")\n",
    "\n",
    "if __name__ == \"__main__\":\n",
    "    main()"
   ]
  },
  {
   "cell_type": "code",
   "execution_count": 4,
   "metadata": {},
   "outputs": [
    {
     "name": "stdout",
     "output_type": "stream",
     "text": [
      "Ingresa a:x\n"
     ]
    },
    {
     "ename": "ValueError",
     "evalue": "invalid literal for int() with base 10: 'x'",
     "output_type": "error",
     "traceback": [
      "\u001b[1;31m---------------------------------------------------------------------------\u001b[0m",
      "\u001b[1;31mValueError\u001b[0m                                Traceback (most recent call last)",
      "\u001b[1;32m<ipython-input-4-278099beec9b>\u001b[0m in \u001b[0;36m<module>\u001b[1;34m\u001b[0m\n\u001b[0;32m     10\u001b[0m \u001b[1;33m\u001b[0m\u001b[0m\n\u001b[0;32m     11\u001b[0m \u001b[1;32mif\u001b[0m \u001b[0m__name__\u001b[0m \u001b[1;33m==\u001b[0m \u001b[1;34m\"__main__\"\u001b[0m\u001b[1;33m:\u001b[0m\u001b[1;33m\u001b[0m\u001b[1;33m\u001b[0m\u001b[0m\n\u001b[1;32m---> 12\u001b[1;33m     \u001b[0mmain\u001b[0m\u001b[1;33m(\u001b[0m\u001b[1;33m)\u001b[0m\u001b[1;33m\u001b[0m\u001b[1;33m\u001b[0m\u001b[0m\n\u001b[0m",
      "\u001b[1;32m<ipython-input-4-278099beec9b>\u001b[0m in \u001b[0;36mmain\u001b[1;34m()\u001b[0m\n\u001b[0;32m      1\u001b[0m \u001b[1;32mdef\u001b[0m \u001b[0mmain\u001b[0m\u001b[1;33m(\u001b[0m\u001b[1;33m)\u001b[0m\u001b[1;33m:\u001b[0m\u001b[1;33m\u001b[0m\u001b[1;33m\u001b[0m\u001b[0m\n\u001b[0;32m      2\u001b[0m     \u001b[0ma\u001b[0m \u001b[1;33m=\u001b[0m \u001b[0minput\u001b[0m\u001b[1;33m(\u001b[0m\u001b[1;34m\"Ingresa a:\"\u001b[0m\u001b[1;33m)\u001b[0m\u001b[1;33m\u001b[0m\u001b[1;33m\u001b[0m\u001b[0m\n\u001b[1;32m----> 3\u001b[1;33m     \u001b[1;32mif\u001b[0m \u001b[0mint\u001b[0m\u001b[1;33m(\u001b[0m\u001b[0ma\u001b[0m\u001b[1;33m)\u001b[0m\u001b[1;33m==\u001b[0m \u001b[1;36m0\u001b[0m\u001b[1;33m:\u001b[0m\u001b[1;33m\u001b[0m\u001b[1;33m\u001b[0m\u001b[0m\n\u001b[0m\u001b[0;32m      4\u001b[0m         \u001b[0mprint\u001b[0m\u001b[1;33m(\u001b[0m\u001b[0ma\u001b[0m\u001b[1;33m+\u001b[0m \u001b[1;34m\" es nulo\"\u001b[0m\u001b[1;33m)\u001b[0m\u001b[1;33m\u001b[0m\u001b[1;33m\u001b[0m\u001b[0m\n\u001b[0;32m      5\u001b[0m     \u001b[1;32melif\u001b[0m \u001b[0mint\u001b[0m\u001b[1;33m(\u001b[0m\u001b[0ma\u001b[0m\u001b[1;33m)\u001b[0m\u001b[1;33m>\u001b[0m\u001b[1;36m0\u001b[0m\u001b[1;33m:\u001b[0m\u001b[1;33m\u001b[0m\u001b[1;33m\u001b[0m\u001b[0m\n",
      "\u001b[1;31mValueError\u001b[0m: invalid literal for int() with base 10: 'x'"
     ]
    }
   ],
   "source": [
    "def main():\n",
    "    a = input(\"Ingresa a:\")\n",
    "    if int(a)== 0:\n",
    "        print(a+ \" es nulo\")\n",
    "    elif int(a)>0:\n",
    "        print(a+ \" es positivo\")\n",
    "    else:\n",
    "        print(a+ \" es negativo\")\n",
    "    print(\"Adios..\")\n",
    "        \n",
    "if __name__ == \"__main__\":\n",
    "    main()"
   ]
  },
  {
   "cell_type": "markdown",
   "metadata": {},
   "source": [
    "**Ejercicio # 1:** Realice un programa en Python que dado como dato el sueldo de un trabajador, le aplique un aumento del 15% si su sueldo es inferior a $1000.00 y del 12% en caso contrario. Imprima el nuevo sueldo del trabajador.  "
   ]
  },
  {
   "cell_type": "code",
   "execution_count": 1,
   "metadata": {},
   "outputs": [
    {
     "name": "stdout",
     "output_type": "stream",
     "text": [
      "Introduce sueldo:100\n",
      "Sueldo final es:  115.0\n"
     ]
    }
   ],
   "source": [
    "# Nombre: ejercicio1.py\n",
    "# Objetivo: \n",
    "# programa en Python que dado como dato el sueldo de un trabajador, \n",
    "# le aplique un aumento del 15% si su sueldo es inferior a $1000.00 y del 12%\n",
    "# Author: Fernando Manzo Virgen\n",
    "# 04/07/2019\n",
    "\n",
    "def main():\n",
    "    st = float(input(\"Introduce sueldo:\"))\n",
    "    \n",
    "    if(st < 1000):\n",
    "        sf = st*.15 + st\n",
    "    elif( st >= 1000):\n",
    "        sf = st*.12 + st\n",
    "    print(\"Sueldo final es: \", sf)\n",
    "\n",
    "if __name__ == \"__main__\":\n",
    "    main()"
   ]
  },
  {
   "cell_type": "markdown",
   "metadata": {},
   "source": [
    "**Ejercicio # 2:** Realice un programa en Python que dado como datos la categoría y el sueldo de un trabajor, calcule el aumento correspondiente teniendo en cuenta la siguiente información e imprima el nuevo sueldo del trabajador:\n",
    "\n",
    "<ul>\n",
    "    <li>Categoría 1 : Aumento 15%</li>\n",
    "    <li>Categoría 2 : Aumento 10%</li>\n",
    "    <li>Categoría 3 : Aumento 8%</li>\n",
    "    <li>Categoría 4 : Aumento 7%</li>\n",
    "</ul>"
   ]
  },
  {
   "cell_type": "code",
   "execution_count": 2,
   "metadata": {
    "scrolled": true
   },
   "outputs": [
    {
     "name": "stdout",
     "output_type": "stream",
     "text": [
      "Introduce categoría:1\n",
      "Introduce sueldo:100\n",
      "Sueldo nuevo es:  115.0\n"
     ]
    }
   ],
   "source": [
    "# Nombre: ejercicio2.py\n",
    "# Objetivo: dado como datos la categoría y el sueldo de un trabajor\n",
    "# calcule el aumento correspondiente teniendo en cuenta la siguiente \n",
    "# información e imprima el nuevo sueldo del trabajador\n",
    "# Author: Fernando Manzo Virgen\n",
    "# 04/07/2019\n",
    "\n",
    "def main():\n",
    "    cat = int(input(\"Introduce categoría:\"))\n",
    "    \n",
    "    if(cat >= 1 and cat <= 4):\n",
    "        sueldo = float(input(\"Introduce sueldo:\"))\n",
    "        if (cat ==1):\n",
    "            nuevo = sueldo*.15 + sueldo\n",
    "        elif( cat ==2):\n",
    "            nuevo = sueldo*.10 + sueldo\n",
    "        elif( cat ==3):\n",
    "            nuevo = sueldo*.08 + sueldo\n",
    "        elif( cat ==4):\n",
    "            nuevo = sueldo*.07 + sueldo\n",
    "            \n",
    "        print(\"Sueldo nuevo es: \", nuevo)\n",
    "    else:\n",
    "        print(\"Debe ser una número de categoría válido\")\n",
    "\n",
    "if __name__ == \"__main__\":\n",
    "    main()"
   ]
  },
  {
   "cell_type": "markdown",
   "metadata": {},
   "source": [
    "##### Ciclos for y while\n",
    "Python soporta ciclos while y ciclos for. A continuación se presentan algunos ejemplos del uso de éstos.\n",
    "\n",
    "###### Ciclo while\n",
    "__Ciclo while controlado por contador__"
   ]
  },
  {
   "cell_type": "code",
   "execution_count": null,
   "metadata": {},
   "outputs": [],
   "source": [
    "#Ciclo while controlado por contador\n",
    "def main():\n",
    "    suma, contador = 0, 1\n",
    "    while contador <=10:\n",
    "        suma = contador + suma\n",
    "        print(\"La suma en \" + str(contador) + \" es :\" + str(suma))\n",
    "        contador +=1\n",
    "\n",
    "if __name__ == \"__main__\":\n",
    "    main()\n"
   ]
  },
  {
   "cell_type": "markdown",
   "metadata": {},
   "source": [
    "En este caso ventualmente cuando el contador llegue a tener un valor de 10, la condición del ciclo numero <= 10 sera False, por lo que el ciclo terminará arrojando el siguiente resultado.\n",
    "\n",
    "__Ciclo while controlado por evento__"
   ]
  },
  {
   "cell_type": "code",
   "execution_count": null,
   "metadata": {},
   "outputs": [],
   "source": []
  },
  {
   "cell_type": "markdown",
   "metadata": {},
   "source": [
    "En este caso el evento que se dispara surge cuando el usuario ingresa \"s\" o \"S\", causando que el bucle while se interrumpa.\n",
    "\n",
    "__Ciclo while con else__\n",
    "\n",
    "Al igual que la sentencia if, la estructura whilepuede utilizar con una sentencia \"else\". Sin embargo, en este caso la sentencia \"else\" se ejecuta en todos los casos, es decir, cuando la expresión condicional del while sea False."
   ]
  },
  {
   "cell_type": "code",
   "execution_count": null,
   "metadata": {},
   "outputs": [],
   "source": []
  },
  {
   "cell_type": "markdown",
   "metadata": {},
   "source": [
    "En este caso una vez que el ciclo While se ve interrumpido, se dirige a la sentencia else y ejecuta la instrucción print(\"Adios\"). Cómo puedo observar en todos los casos, siempre se ejecutará el else."
   ]
  },
  {
   "cell_type": "markdown",
   "metadata": {},
   "source": [
    "###### Ciclo for\n",
    "La sentencia for en python difiere un poco de lo que se puede estar acostumbrado en entors lenguajes. En lugar de siempre iterar sobre una prgresión aritmética de números o darle al usuario la posibilidad de definir tanto el paso de la iteración como la condición de fin, la sentencia for de Python itera sobre los elementos de cualquier tipo iterable, en el orden en que aparecen en la secuencia.\n",
    "\n",
    "__Ciclo for con Listas__"
   ]
  },
  {
   "cell_type": "code",
   "execution_count": null,
   "metadata": {},
   "outputs": [],
   "source": [
    "def main():\n",
    "    animales = ['gato', 'perro', 'serpiente']\n",
    "    for animal in animales:\n",
    "        print(\"El animal es: {0}, tamaño de palabra es: {1}\".format(animal, len(animal)))\n",
    "\n",
    "if __name__ == \"__main__\":\n",
    "    main()"
   ]
  },
  {
   "cell_type": "markdown",
   "metadata": {},
   "source": [
    "En el ejemplo anterior la variable animal toma cada uno de los elementos del elemento iterable sobre el cual se está iterando, en este caso una lista. Lo anterior se logra a través del uso del operador de pertenencia **\"in\"**, el cual evalua a verdadero si encuentra un variable en la secuencia especificada o falso de manera contraria. El operador \"in\" es usado para verificar si un valor existe o no en una secuencia. \n",
    "\n",
    "Por otro lado, la función **.format()** es uno de los métodos de formateo de cadenas, permitiendo concatenar elementos en una cadena de caracteres a través de un formateo posicional. Para lo anterior, las {} son colocadas en la posición en donde se desea concatenar un valor, el cual puede ser entero, flotante, strinc, caracteres, etc.\n",
    "\n",
    "La función **len()** devuelve la longitud de un elemento iterable.\n",
    "\n",
    "**Ejercicio # 3:** Realice un programa en Python que dado como datos los sueldos de 10 trabajadores de una empresa, obtenga el total de nómina de la misma. Puede utilizar un ciclo for o un ciclo while. \n",
    "\n",
    "__Ciclo for con Listas  y función range__"
   ]
  },
  {
   "cell_type": "code",
   "execution_count": 3,
   "metadata": {},
   "outputs": [
    {
     "name": "stdout",
     "output_type": "stream",
     "text": [
      "Número de trabajador:  1\n",
      "Sueldo del trabajador: 1\n",
      "Número de trabajador:  2\n",
      "Sueldo del trabajador: 1\n",
      "Número de trabajador:  3\n",
      "Sueldo del trabajador: 1\n",
      "Número de trabajador:  4\n",
      "Sueldo del trabajador: 1\n",
      "Número de trabajador:  5\n",
      "Sueldo del trabajador: 1\n",
      "Número de trabajador:  6\n",
      "Sueldo del trabajador: 1\n",
      "Número de trabajador:  7\n",
      "Sueldo del trabajador: 1\n",
      "Número de trabajador:  8\n",
      "Sueldo del trabajador: 1\n",
      "Número de trabajador:  9\n",
      "Sueldo del trabajador: 1\n",
      "Número de trabajador:  10\n",
      "Sueldo del trabajador: 1\n",
      "Total de nómina:  10\n"
     ]
    }
   ],
   "source": [
    "# Nombre: ejercicio3.py\n",
    "# Objetivo: dado como datos los sueldos de 10 trabajadores de una empresa\n",
    "# obtenga el total de nómina de la misma\n",
    "# Author: Fernando Manzo Virgen\n",
    "# 04/07/2019\n",
    "\n",
    "def main():\n",
    "    ciclo = 1\n",
    "    nomina = 0\n",
    "    while ciclo <= 10:\n",
    "        print(\"Número de trabajador: \", ciclo)\n",
    "        sueldo = int(input(\"Sueldo del trabajador: \"))\n",
    "        nomina = nomina + sueldo\n",
    "        ciclo +=1\n",
    "    print(\"Total de nómina: \", nomina)\n",
    "\n",
    "\n",
    "if __name__ == \"__main__\":\n",
    "    main()"
   ]
  },
  {
   "cell_type": "code",
   "execution_count": null,
   "metadata": {},
   "outputs": [],
   "source": [
    "def main():\n",
    "    oracion = 'Los Maestros del departamento de Sistemas desean aprender Python'\n",
    "    frases = oracion.split() \n",
    "    print(\"La oración analizada es:\", oracion, \".\\n\")\n",
    "    for palabra in range(len(frases)):\n",
    "        print(\"Palabra: {0}, en la frase su posición es: {1}\".format(frases[palabra], palabra))\n",
    "        \n",
    "if __name__ == \"__main__\":\n",
    "    main()"
   ]
  },
  {
   "cell_type": "markdown",
   "metadata": {},
   "source": [
    "En el ejemplo anterior la variable \"palabra\" está tomando un valor entero de la progresión generada por la función **range()**, que en este caso tomó como parámetro el valor devuelto por la función **len()**, comenzando desde 0 hasta longitud-1. La función range toma la siguiente estrcutura: **range([start],stop[, step])**. \n",
    "\n",
    "<ol>\n",
    "    <li>start: inicio del número de la secuencia</li>\n",
    "    <li>stop: paro de la secuencia, es decir, hasta donde sin incluir este número</li>\n",
    "    <li>step: incremento</li>\n",
    "</ol>\n",
    "\n",
    "**Ejercicio # 4:** Realice un programa en Python que permita capturar en una lista las calificaciones de N alumnos y que le permita calcular e imprimir lo siguiente:\n",
    "<ol>\n",
    "    <li>El promedio general de los alumnos</li>\n",
    "    <li>Numero de alumnos aprobados y número de alumnos reprobados (Si el alumno sacó una calificación menor a 70 se considera reprobado)</li>\n",
    "    <li>Porcentaje de alumnos aprobados y reprobados.</li>\n",
    "    <li>Número de alumnos cueya calificación fue mayor a 80</li>\n",
    "</ol>\n",
    "\n",
    "__Ciclo for con tuplas__"
   ]
  },
  {
   "cell_type": "code",
   "execution_count": 4,
   "metadata": {},
   "outputs": [
    {
     "name": "stdout",
     "output_type": "stream",
     "text": [
      "----- Script para trabajar con listas -----\n",
      "1.- Agregar calificacion de alumno\n",
      "2.- Promedio general\n",
      "3.- No. de alumnos aprobados y reprobados (%) \n",
      "4.- Número de alumnos cuya calificación fue mayor a 80 \n",
      "5.- Salir \n",
      "--------------------------------------------------------\n",
      "Elija una opción entre 1 y 6: 5\n",
      "** Fin del programa\n"
     ]
    }
   ],
   "source": [
    "# Nombre: ejercicio4.py\n",
    "# Objetivo: que permita capturar en una lista las calificaciones de N alumnos y que le permita calcular e imprimir\n",
    "# Author: Fernando Manzo Virgen\n",
    "# 04/07/2019\n",
    "\n",
    "lista = []\n",
    "\n",
    "def agregarCalf(calf):\n",
    "\tlista.append(calf)\n",
    "\n",
    "def promedio():\n",
    "\tnum = len(lista)\n",
    "\tc = 0\n",
    "\tsuma = 0\n",
    "\twhile c< num:\n",
    "\t\tsuma = suma + lista[c]\n",
    "\t\tc += 1\n",
    "\n",
    "\tpromedio = suma / num\n",
    "\tprint (\"*El promedio es: \", promedio)\n",
    "\n",
    "def aprobados_reprobados():\n",
    "\tnum = len(lista)\n",
    "\tc = 0\n",
    "\treprobado = 0\n",
    "\taprobado = 0\n",
    "\twhile c< num:\n",
    "\t\tif (lista[c] < 70):\n",
    "\t\t\treprobado += 1\n",
    "\t\t\tc += 1\n",
    "\t\telse:\n",
    "\t\t\taprobado +=1\n",
    "\t\t\tc += 1\n",
    "\tpAprobados = (aprobado * 100) / num\n",
    "\tpReprobados = (reprobado * 100) / num\n",
    "\tprint(\"**Porcentaje Aprobados: \",aprobado,\" equivalente a \", pAprobados, \"%\")\n",
    "\tprint(\"**Porcentaje Reprobados: \",reprobado,\" equivalente a\", pReprobados,\"%\")\n",
    "\n",
    "def mayor():\n",
    "\tnum = len(lista)\n",
    "\tc = 0\n",
    "\tcuenta = 0\n",
    "\twhile c< num:\n",
    "\t\tif (lista[c] > 80):\n",
    "\t\t\tcuenta += 1\n",
    "\t\t\tc += 1\n",
    "\t\telse:\n",
    "\t\t\tc += 1\n",
    "\tprint(\"**Alumnos con promedio mayor a 80: \", cuenta)\n",
    "\n",
    "def main():\n",
    "\tciclo = True\n",
    "\twhile ciclo == True:\n",
    "\t\tprint(\"----- Script para trabajar con listas -----\")\n",
    "\t\tprint(\"1.- Agregar calificacion de alumno\")\n",
    "\t\tprint(\"2.- Promedio general\")\n",
    "\t\tprint(\"3.- No. de alumnos aprobados y reprobados (%) \")\n",
    "\t\tprint(\"4.- Número de alumnos cuya calificación fue mayor a 80 \")\n",
    "\t\tprint(\"5.- Salir \")\n",
    "\t\tprint(\"--------------------------------------------------------\")\n",
    "\n",
    "\t\topc = int(input(\"Elija una opción entre 1 y 5: \"))\n",
    "\n",
    "\t\tif( opc == 1):\n",
    "\t\t\tcalf = int(input(\"Introduce la calificación: \"))\n",
    "\t\t\tagregarCalf(calf)\n",
    "\t\telif (opc == 2):\n",
    "\t\t\tpromedio()\n",
    "\t\telif (opc == 3):\n",
    "\t\t\taprobados_reprobados()\n",
    "\t\telif (opc == 4):\n",
    "\t\t\tmayor()\n",
    "\t\telif (opc == 5):\n",
    "\t\t\tprint(\"** Fin del programa\")\n",
    "\t\t\tciclo = False\n",
    "\n",
    "\t\telse:\n",
    "\t\t\tprint(\"Selecciona un entero entre 1 y 6\")\n",
    "\n",
    "if __name__ == \"__main__\":\n",
    "    main()"
   ]
  },
  {
   "cell_type": "code",
   "execution_count": null,
   "metadata": {},
   "outputs": [],
   "source": [
    "def main():\n",
    "    tupla = (1,'Una',2,'tupla',3,'es',4,'un tipo de dato',5,'inmutable',6,'en', 7,'Python')\n",
    "    for elemento in tupla:\n",
    "        print (\"El elemento actual es:\",elemento)\n",
    "\n",
    "if __name__ == \"__main__\":\n",
    "    main()"
   ]
  },
  {
   "cell_type": "markdown",
   "metadata": {},
   "source": [
    "__Ciclo for con diccionarios__\n"
   ]
  },
  {
   "cell_type": "code",
   "execution_count": null,
   "metadata": {},
   "outputs": [],
   "source": [
    "def main():\n",
    "    \n",
    "    datos_basicos = {\n",
    "        \"nombres\":\"Juan\",\n",
    "        \"apellidos\":\"Rulfo\",\n",
    "        \"fecha_nacimiento\":\"16/05/1917\",\n",
    "        \"lugar_nacimiento\":\"Apulco, San Gabriel, Sayula, Jalisco, México\",\n",
    "        \"nacionalidad\":\"Mexicana\",\n",
    "    }\n",
    "\n",
    "    print(\"\\n.::: Elementos del diccionario: ::.\")\n",
    "    for clave, valor in datos_basicos.items():\n",
    "        print(clave + \": \" + valor)\n",
    "\n",
    "    print(\"\\n.::: Llaves del diccionario: ::.\")\n",
    "    for clave in datos_basicos.keys():\n",
    "        print(clave)\n",
    "\n",
    "    print(\"\\n.::: Valores del diccionario: ::.\")  \n",
    "    for valores in datos_basicos.values():\n",
    "        print(valores)\n",
    "\n",
    "if __name__ == \"__main__\":\n",
    "    main()\n"
   ]
  },
  {
   "cell_type": "markdown",
   "metadata": {},
   "source": [
    "Como se puede observar la iteración del ciclo sobre el diccionario es similar que iterar sobre una lista; sin embargo, la llave y el valor correspondiente se puede obtener al mismo tiempo usando la función **items()**, de lo contrario se hace uso de la función **keys()** y **values()**. \n",
    "\n",
    "**Ejercicio # 5:** Realice un programa en python que permita almacenar en un diccionario los datos generales de un alumno del ITC. Deberá poder imprimir cada uno de éstos datos a través de la clave del diccinario y modificar al menos uno de los datos (ej. número telefónico).\n",
    "\n",
    "\n",
    "__Ciclo for con else__"
   ]
  },
  {
   "cell_type": "code",
   "execution_count": 5,
   "metadata": {},
   "outputs": [
    {
     "name": "stdout",
     "output_type": "stream",
     "text": [
      "-------------------------------\n",
      "nombres: Fernando\n",
      "apellidos: Manzo\n",
      "telefono: 3121740217\n",
      "-------------------------------\n",
      "1.- Desea modificar\n",
      "2.- Desea imprimir\n",
      "Elija una opción (1/2): 2\n",
      "--------------------------------\n",
      "¿Qué atributo desea?\n",
      "1.-Nombre\n",
      "2.-Apellidos\n",
      "3.-Telefono\n",
      "Elije una oción: 1\n",
      "Fernando\n",
      "Desea otra operación: n\n"
     ]
    }
   ],
   "source": [
    "# Nombre: ejercicio5.py\n",
    "# Objetivo: que permita almacenar en un diccionario los datos generales de un alumno del ITC.\n",
    "# Deberá poder imprimir cada uno de éstos datos a través de la clave del\n",
    "#diccinario y modificar al menos uno de los datos (ej. número telefónico).\n",
    "# Author: Fernando Manzo Virgen\n",
    "# 04/07/2019\n",
    "lista = {\n",
    "\t\"nombres\":\"Fernando\",\n",
    "    \"apellidos\":\"Manzo\",\n",
    "    \"telefono\":\"3121740217\",\n",
    "}\n",
    "\n",
    "def imprimir():\n",
    "\tprint(\"-------------------------------\")\n",
    "\tfor clave, valor in lista.items():\n",
    "\t\tprint(clave + \": \" + valor)\n",
    "\tprint(\"-------------------------------\")\n",
    "\n",
    "\n",
    "def modificar(n, r):\n",
    "\tfor clave in lista.keys():\n",
    "\t\tif (clave == n and r==1):\n",
    "\t\t\ta = input(\"Ingrese nuevo valor: \")\n",
    "\t\t\tlista[n]=a;\n",
    "\t\t\timprimir()\n",
    "\t\telif(clave == n and r==2):\n",
    "\t\t\tprint(lista[n])\n",
    "\n",
    "def main():\n",
    "\tciclo = True\n",
    "\twhile ciclo == True:\n",
    "\t\timprimir()\n",
    "\t\tprint(\"1.- Desea modificar\")\n",
    "\t\tprint(\"2.- Desea imprimir\")\n",
    "\t\tr = int(input(\"Elija una opción (1/2): \"))\n",
    "\t\tprint(\"--------------------------------\")\n",
    "\t\tprint(\"¿Qué atributo desea?\")\n",
    "\t\tprint(\"1.-Nombre\")\n",
    "\t\tprint(\"2.-Apellidos\")\n",
    "\t\tprint(\"3.-Telefono\")\n",
    "\t\topc = int(input(\"Elije una oción: \"))\n",
    "\t\tif (opc == 1):\n",
    "\t\t\tn = \"nombres\"\n",
    "\t\t\tmodificar(n, r)\n",
    "\t\telif (opc == 2):\n",
    "\t\t\tn = \"apellidos\"\n",
    "\t\t\tmodificar(n, r)\n",
    "\t\telif (opc == 3):\n",
    "\t\t\tn = \"telefono\"\n",
    "\t\t\tmodificar(n, r)\n",
    "\n",
    "\t\totra = input(\"Desea otra operación: \")\n",
    "\t\tif (otra == \"S\" or otra == \"s\"):\n",
    "\t\t\tciclo = True\n",
    "\t\telse:\n",
    "\t\t\tciclo = False\n",
    "\n",
    "if __name__ == \"__main__\":\n",
    "    main()\n"
   ]
  },
  {
   "cell_type": "code",
   "execution_count": null,
   "metadata": {},
   "outputs": [],
   "source": [
    "def main():\n",
    "    animales = ['gato', 'perro', 'serpiente']\n",
    "    for animal in animales:\n",
    "        print(\"El animal es: {0}, tamaño de palabra es: {1}\".format(animal, len(animal)))\n",
    "    else:\n",
    "        print(\"Adios..\")\n",
    "\n",
    "if __name__ == \"__main__\":\n",
    "    main()"
   ]
  },
  {
   "cell_type": "markdown",
   "metadata": {},
   "source": [
    "Al igual que la sentencia if y el bucle while, la estructura for también puede combinarse con una sentencia else, el cual se ejecutará en todos los casos, es decir, cuando la expresión condicional del bucle for sea False, (a comparación de la sentencia if).\n",
    "\n"
   ]
  },
  {
   "cell_type": "markdown",
   "metadata": {},
   "source": [
    "###### Iteradores\n",
    "Un iterador es un objeto que permite recorrer uno a uno los elementos almacenados en una estructura de datos, y operar con ellos. Los iteradores tienen que implementar un método next que debe devolver los elementos, de a uno por vez, comenzando por el primero. Y al llegar al final de la estructura, debe levantar una excepción de tipo StopIteration. Es importante mencionar que el ciclo for en Python implementa un interador de manera interna, por lo tanto las siguientes estructuras son equivalentes:\n",
    "\n",
    "```python\n",
    "for elemento in secuencia:\n",
    "    # hacer algo con elemento\n",
    "\n",
    "iterador = iter(secuencia)\n",
    "while True:\n",
    "    try:\n",
    "        elemento = iterador.next()\n",
    "    except StopIteration:\n",
    "        break\n",
    "    # hacer algo con elemento\n",
    "```    "
   ]
  },
  {
   "cell_type": "code",
   "execution_count": null,
   "metadata": {},
   "outputs": [],
   "source": [
    "def main(): \n",
    "    iterador = ['1', 2, 'tres', 4.0].__iter__()\n",
    "    while True:\n",
    "        try: \n",
    "            i = iterador.__next__()\n",
    "            print(i)\n",
    "        except StopIteration:\n",
    "            break\n",
    "\n",
    "if __name__ == \"__main__\":\n",
    "    main()"
   ]
  },
  {
   "cell_type": "markdown",
   "metadata": {},
   "source": [
    "Un objeto iterador en python debe implementar dos métodos especiales, **__iter__()** y **__next__()**. El método **__iter__()** regresa el objeto iterador en si; mientras que, el método **__next__()** regresa el siguiente elemento de la secuencia, en donde alcanzando el final lanza un **StopIteration** \n",
    "\n",
    "Es importante mencionar que todos los datos iterables soportan el método **iter()** regresando un iterador para el objeto dado."
   ]
  },
  {
   "cell_type": "code",
   "execution_count": null,
   "metadata": {},
   "outputs": [],
   "source": [
    "def main():\n",
    "    vocales = ['a', 'e', 'i', 'o', 'u']\n",
    "\n",
    "    iterador_vocales = iter(vocales)\n",
    "    print(next(iterador_vocales))\n",
    "    \n",
    "if __name__ == \"__main__\":\n",
    "    main()"
   ]
  },
  {
   "cell_type": "markdown",
   "metadata": {},
   "source": [
    "#### __Funciones__\n",
    "Una función es un bloque de código que sólo se ejecuta cuando ésta es llamada, ésta puede regresar daos como un resultado. En Python una función es definida usando la palabra reservada **def**.\n",
    "##### Creación de una función"
   ]
  },
  {
   "cell_type": "code",
   "execution_count": null,
   "metadata": {},
   "outputs": [],
   "source": [
    "def funcion():\n",
    "    print(\"Hola \")\n",
    "\n",
    "def main():\n",
    "    funcion()\n",
    "\n",
    "if __name__ == \"__main__\":\n",
    "    main()"
   ]
  },
  {
   "cell_type": "markdown",
   "metadata": {},
   "source": [
    "##### Paso de parámetros\n",
    "Los argumentos de una función son pasados por valor, de tal forma que si se cambia el valor de alrgumento dentro de la función, éste no cambia por fuera de la funciÓN. Si se desea que una función sea capaz de modificar variables no locales, éstas se deben declarar como globales en la primera linea de la fuinción. Es  importante mencionar que si se declara cualquier variable como global, el nombre no puede ser reusado en la lista de argumentos (causaría un error). A una función se le pueden pasar parámetros, los cuales son especificados después del nombre de la función, dentro de los paréntesis. "
   ]
  },
  {
   "cell_type": "code",
   "execution_count": null,
   "metadata": {},
   "outputs": [],
   "source": [
    "def funcion(nombre):\n",
    "  print(nombre + \" Sandoval\")\n",
    "\n",
    "def main():\n",
    "    funcion(\"Alejandra\")\n",
    "    funcion(\"Felipe\")\n",
    "    funcion(\"Tomás\") \n",
    "\n",
    "if __name__ == \"__main__\":\n",
    "    main()"
   ]
  },
  {
   "cell_type": "markdown",
   "metadata": {},
   "source": [
    "###### Parámetro por defecto"
   ]
  },
  {
   "cell_type": "code",
   "execution_count": null,
   "metadata": {},
   "outputs": [],
   "source": [
    "def funcion(pais = \"Noruega\"):\n",
    "  print(\"Yo soy de \" + pais)\n",
    "\n",
    "def main():\n",
    "    funcion(\"Suecia\")\n",
    "    funcion(\"India\")\n",
    "    funcion()\n",
    "    funcion(\"Brasil\")\n",
    "\n",
    "if __name__ == \"__main__\":\n",
    "    main()"
   ]
  },
  {
   "cell_type": "markdown",
   "metadata": {},
   "source": [
    "###### Lista como parámetro"
   ]
  },
  {
   "cell_type": "code",
   "execution_count": null,
   "metadata": {},
   "outputs": [],
   "source": [
    "def funcion(comida):\n",
    "  for fruta in comida:\n",
    "    print(fruta)\n",
    "\n",
    "def main():\n",
    "    frutas = [\"manzana\", \"plátano\", \"uva\"]\n",
    "    funcion(frutas)\n",
    "    \n",
    "if __name__ == \"__main__\":\n",
    "    main()"
   ]
  },
  {
   "cell_type": "markdown",
   "metadata": {},
   "source": [
    "###### Regreso de valores"
   ]
  },
  {
   "cell_type": "code",
   "execution_count": null,
   "metadata": {},
   "outputs": [],
   "source": [
    "def funcion(numero):\n",
    "  return 5 * numero\n",
    "\n",
    "def main():\n",
    "    print(funcion(3))\n",
    "    print(funcion(5))\n",
    "    print(funcion(9))\n",
    "\n",
    "if __name__ == \"__main__\":\n",
    "    main()"
   ]
  },
  {
   "cell_type": "markdown",
   "metadata": {},
   "source": [
    "###### Recursividad\n",
    "En Python una función es recursiva si se manda llamar a sí misma y tinee una condición de termino, para evitar que la función se llama así misma infinitamente."
   ]
  },
  {
   "cell_type": "code",
   "execution_count": null,
   "metadata": {},
   "outputs": [],
   "source": [
    "def factorial(n):\n",
    "    if n == 1:\n",
    "        return 1\n",
    "    else:\n",
    "        return n * factorial(n-1)\n",
    "\n",
    "def main():\n",
    "    print(factorial(3))\n",
    "    \n",
    "if __name__ == \"__main__\":\n",
    "    main()"
   ]
  },
  {
   "cell_type": "markdown",
   "metadata": {},
   "source": [
    "#### __Programación Orientada a Objetos__\n",
    "\n",
    "Algunas particularidades de la POO en Python son las siguientes:\n",
    "<ul>\n",
    "    <li>Todo es un objeto, incluyendo los tipos y clases\n",
    "    <li>Permite herencia múltiple</li>\n",
    "    <li>No existen métodos ni atributos privados</li>\n",
    "    <li>Los atributos pueden ser modificados directamente</li>\n",
    "    <li>Permite el \"monkey patching\"</li>\n",
    "    <li>Permite la sobrecarga de operadores</li>\n",
    "    <li>Permite la creación de nuevos tipos de datos</li>\n",
    "</ul>\n",
    "\n",
    "Las clases proveen una forma de empaquetar datos y funcionalidad juntos. Al crear una nueva clase, se crea un nuevo tipode  objeto,  permitiendo  crear  nuevas  instancias  de  ese  tipo.  Cada  instancia  de  clase  puede  tener  atributos  adjuntos  paramantener  su  estado.  Las  instancias  de  clase  también  pueden  tener  métodos  (definidos  por  su  clase)  para  modificar  suestado.\n",
    "\n",
    "En Python las clases son definidas de alguna manera simira a Java, alguna de las diferencias incluyen el **self** que se utiliza en lugar del **this** y los constructores siendo nombrados **```__init__```** en lugar de **classname**. El **self** debe ser utilizado cada vez que una variable de clase es referenciada y debe ser el primer argumento en cada lista de arugmentos de función, incluyendo el constructor. Como las funciones, una clase debe ser definida antes de que pueda ser instanciada. En python todos los miembros de una clase son públicos. \n",
    "\n",
    "En python se puede definir una clase utilizando la palabra reservada ```class```. El bloque que sigue es la definición de la clase. Dentro de la defiición se hace referencia a la instancia de la clase **self**. Por ejemplo, el atributo de instancia ```dato``` es llamado ```self.dato``` en la definición de la clase, y el método de instancia ```calcular``` es llamado ```self.caclular``` en la definciión de la clse (ej., es llamado by ```self.calcular()```, sino recibe ningún argumento).\n",
    "\n",
    "Métodos son definidos usando la palabra reservada ```def```. El primer argumento en cualquier método es ```self```; esta sintaxis es como Python le dice al método \"haz uso de los métodos y atributos previamente definidos en esta instancia\". Sin embargo, nunca se usa ```self``` cunaod mandas llamar un método. \n",
    "\n",
    "Usualmente el primero método que se define en una clases es el método ```__init__```. Este método es llamado cuando se crea una instancia de la clase, y usualmente se coloca código que maneja los argumentos presentes cuando se crea (o instancia) una instancia de la clase y realiza cualquier tipo de inicialización para una instancia de objeto. Los argumentos de ```__init__``` es la lista de argumentos que se pasan al constructor de la clase. A continuación se proporciona un ejemplo.\n"
   ]
  },
  {
   "cell_type": "code",
   "execution_count": null,
   "metadata": {},
   "outputs": [],
   "source": [
    "class Libro(object):\n",
    "    #Constructor de la clase\n",
    "    def __init__(self, autor_apellido, autor_nombre, titulo, lugar, editorial, year):\n",
    "        self.autor_apellido = autor_apellido\n",
    "        self.autor_nombre = autor_nombre\n",
    "        self.titulo = titulo\n",
    "        self.editorial = editorial\n",
    "        self.lugar = lugar\n",
    "        self.year = year\n",
    "        \n",
    "    def escribe_entrada_bibliografica(self):\n",
    "        return self.autor_apellido + \",\" + self.autor_nombre + \",\" + self.titulo + \",\" + self.editorial + \",\" + self.lugar + \",\" + self.year + \".\"\n",
    "    \n",
    "    def hacer_autor_year(self):\n",
    "        self.autor_year = str(self.autor_nombre) + \"(\"+str(self.year)+\")\"\n",
    "        \n",
    "    \n",
    "def main():\n",
    "    #Objeto llamado belleza\n",
    "    belleza = Libro(\"Dubay\",\"Thomas\",\"The Evidential Power o Beuty\", \"San Francisco\", \"Ignatius Press\", \"1999\")\n",
    "    #Objeto llamado programacion_python\n",
    "    programacion_python = Libro(\"Martelli\", \"Alex\", \"Python in a Nutshell\", \"sebastopol,CA\", \"O'Reilly Media, Inc.\",\"2003\")\n",
    "    \n",
    "    print(\"Apellido del Autor:\", belleza.autor_apellido)\n",
    "    print(\"Nombre del Autor:\", belleza.autor_nombre)\n",
    "    print(belleza.escribe_entrada_bibliografica())\n",
    "    \n",
    "    principito = Libro(\"De Saint-Exupéry\", \"Antoine\", \"The Principite\", \"Paris\", \"Hotchins\", \"1947\")\n",
    "    print(principito.escribe_entrada_bibliografica())  \n",
    "    belleza.year = \"2010\"\n",
    "    print(belleza.escribe_entrada_bibliografica())\n",
    "    belleza.hacer_autor_year()\n",
    "    print(belleza.escribe_entrada_bibliografica())\n",
    "    \n",
    "    print(belleza.autor_year)\n",
    "    \n",
    "   \n",
    "    \n",
    "\n",
    "if __name__ == \"__main__\":\n",
    "    main()\n",
    "    "
   ]
  },
  {
   "cell_type": "markdown",
   "metadata": {},
   "source": [
    "**Ejercicio: # 6 ** Definición de clase propia.\n",
    "<ol>\n",
    "    <li>Cree una instancia de la clase Libro usando un libro de su preferencia o invente uno.</li>\n",
    "    <li>Modifique el año de la instancia belleza a 2010.</li>\n",
    "    <li>Imprima la entrada bibliográfica de la instancia belleza.</li>\n",
    "    <li>Agregue un método llamado \"hacer_autor_year\" a la definición de la clase que creará un atributo \"autor_year\" y fijará ese atributo a un string que tenga el apellido_autor y el año entre paréntesis. Por ejemplo: para la instancia belleza este método debería asignar autor_year a Dubay (1999). El método no deberá contener un return.</li>\n",
    "    <li>Cree una clase Articulo que meneja la información acerca de artículos. Debe ser muy sismilara la definición de la clase Libro, a excepción por la editorial,  y coloque información coo título del artículo, número de volumen, páginas, etc. Asegurese de que esta clase tenga el método \"escribe_entrada bibliografica\" y \"hacer_autor_year\".</li>\n",
    "</ol>"
   ]
  },
  {
   "cell_type": "code",
   "execution_count": null,
   "metadata": {},
   "outputs": [],
   "source": [
    "# Nombre: ejercicio6.py\n",
    "# Objetivo: muestra el manejo de clases\n",
    "# Author: Fernando Manzo Virgen\n",
    "# Fecha: 05/07/2019\n",
    "\n",
    "import math as mat\n",
    "\n",
    "class Punto(object):\n",
    "    #Constructor de la clase\n",
    "    def __init__(self, valorX, valorY):\n",
    "        self.x = valorX\n",
    "        self.y = valorY\n",
    "    \n",
    "    def getX(self):\n",
    "        return self.x\n",
    "    \n",
    "    def getY(self):\n",
    "        return self.y\n",
    "    \n",
    "    def setX(self, valorX):\n",
    "        self.x = valorX\n",
    "    \n",
    "    def setY(self, valorY):\n",
    "        self.y = valorY\n",
    "        \n",
    "    def toString(self):\n",
    "        return \"El punto tiene las siguientes coordenandas: \", self.x, \",\", self.y\n",
    "\n",
    "class Circunferencia(Punto):\n",
    "    #Constructor de la clase\n",
    "    def __init__(self, valorRadio):\n",
    "        self.radio = valorRadio\n",
    "    \n",
    "    def getRadio(self):\n",
    "        return self.radio\n",
    "    \n",
    "    def setRadio(self, valorRadio):\n",
    "        self.radio = valorRadio\n",
    "    \n",
    "    def getArea(self):\n",
    "        return mat.pi*mat.pow(self.getRadio(), 2)\n",
    "\n",
    "    def toString(self):\n",
    "        return \"La circunferencia tiene como centro: \", self.getX(), \",\", self.getY(), self.getRadio(),\"El área es: \", self.getArea()\n",
    "#Escriba la clase Clilindro  que hereda de Circunferencia, crea un objeto p4 y crea un método para calcular el geVolumen\n",
    "\n",
    "class Cilindro(Circunferencia):\n",
    "    def __init__(self, valorAltura):\n",
    "        self.altura = valorAltura\n",
    "\n",
    "    def getAltura(self):\n",
    "        return self.altura\n",
    "\n",
    "    def setAltura(self, valorAltura):\n",
    "        self.altura = valorAltura\n",
    "\n",
    "    def getVolumen(self):\n",
    "        return self.getArea() * self.getAltura()\n",
    "\n",
    "    def toString(self):\n",
    "        return \"El cilindro tiene un area: \", self.getArea(), \"Una altura: \", self.getAltura(), \"EL volumen es: \", self.getVolumen()\n",
    "\n",
    "\n",
    "def main():\n",
    "    #Programa principal\n",
    "\n",
    "    #Creamos el objeto p1\n",
    "    p1 = Punto(2,3)\n",
    "    print(p1.toString())\n",
    "\n",
    "    #Creamos el objeto p2\n",
    "    p2 = Punto(0,0)\n",
    "    print(p2.toString())\n",
    "\n",
    "    #Invocamos el método set\n",
    "    p2.setX(-2)\n",
    "    p2.setY(-4)\n",
    "    print(p2.toString())\n",
    "\n",
    "    p3 = Circunferencia(12.34)\n",
    "    p3.setX(10)\n",
    "    p3.setY(12)\n",
    "\n",
    "    print(p3.toString())\n",
    "\n",
    "    p4 = Cilindro(9.81)\n",
    "    p3.setX(2)\n",
    "    p3.setY(2)\n",
    "    p4.setRadio(3.12)\n",
    "    print(p4.toString())\n",
    "\n",
    "\n",
    "if __name__ == \"__main__\":\n",
    "    main()\n",
    "    \n",
    "    "
   ]
  },
  {
   "cell_type": "markdown",
   "metadata": {},
   "source": [
    "### Clases gráficas\n",
    "\n",
    "Veamos como crear ventanas y trabajar con interfaces gráficas de usuario (GUI) en Python 3,\n",
    "usaremos la librería **tkinter** que ya viene incluido en la instalación de python, es un paquete de \n",
    "código abierto, accesible, portable y muy potente, además cuenta con varios extensiones que podemos \n",
    "usar para facilitar aun más nuestro trabajo a la hora de crear GUI.\n",
    "\n",
    "Para crear una ventana sin mas, importamos tkinter, llamando al método tk() \n",
    "obtenemos la ventana principal, para iniciar el bucle de mensajes de la ventana\n",
    "usamos mainloop()i."
   ]
  },
  {
   "cell_type": "code",
   "execution_count": null,
   "metadata": {},
   "outputs": [],
   "source": [
    "import tkinter as tk\n",
    "root = tk.Tk()\n",
    "root.mainloop()"
   ]
  },
  {
   "cell_type": "markdown",
   "metadata": {},
   "source": [
    "Para agregar un **widget** a la ventana inicializamos una instancia de la clase que corresponda al widget que deseamos crear, como primer parametro indicamos la ventana a la que lo agregaremos, si indicamos None (por defecto) se creará una ventana a la que se asociara el **widget**.\n",
    "\n",
    "Para empezar vamos a mostrar el clásico programa hola mundo, mostraremos una ventana con una etiqueta (label) que mostrará el mensaje, al trabajar con tkinter las GUI son completamente portables a cualquier plataforma como Linux, Windows y otros."
   ]
  },
  {
   "cell_type": "code",
   "execution_count": null,
   "metadata": {},
   "outputs": [],
   "source": [
    "import tkinter as tk\n",
    "from tkinter import *\n",
    "\n",
    "#Creamos las ventanas\n",
    "root = tk.Tk()\n",
    "\n",
    "#Creamos la etiqueta\n",
    "widget = Label(None, text='Hola Mundo tkinter')\n",
    "#Agregamos la etiqueta a la ventana\n",
    "widget.pack()\n",
    "#Modificamos el tamaño de la ventana\n",
    "root.geometry(\"800x800\")\n",
    "#Ciclo de espera de eventos\n",
    "root.mainloop()"
   ]
  },
  {
   "cell_type": "code",
   "execution_count": null,
   "metadata": {},
   "outputs": [],
   "source": [
    "# Nombre: calculadora.py\n",
    "# Objetivo: calculadora básica\n",
    "# Author: Fernando Manzo Virgen\n",
    "# 06/07/2019\n",
    "\n",
    "from tkinter import *\n",
    "\n",
    "def sumar():\n",
    "    r.set( float(n1.get()) + float(n2.get()) )\n",
    "    borrar()\n",
    "\n",
    "def resta():\n",
    "    r.set( float(n1.get()) - float(n2.get()) )\n",
    "    borrar()\n",
    "\n",
    "def producto():\n",
    "    r.set( float(n1.get()) * float(n2.get()) )\n",
    "    borrar()\n",
    "\n",
    "def dividir():\n",
    "    r.set( float(n1.get()) / float(n2.get()) )\n",
    "    borrar()\n",
    "\n",
    "def borrar():\n",
    "    n1.set(\"\")\n",
    "    n2.set(\"\")\n",
    "\n",
    "# Configuración de la raíz\n",
    "root = Tk()\n",
    "root.title(\"Calculadora\")\n",
    "root.config(bd=30)\n",
    "\n",
    "n1 = StringVar()\n",
    "n2 = StringVar()\n",
    "r = StringVar()\n",
    "\n",
    "Label(root, text=\"Número 1\").pack()\n",
    "Entry(root, justify=\"center\", textvariable=n1).pack()\n",
    "\n",
    "Label(root, text=\"Número 2\").pack()\n",
    "Entry(root, justify=\"center\", textvariable=n2).pack()\n",
    "\n",
    "Label(root, text=\"Resultado\").pack()\n",
    "Entry(root, justify=\"center\", textvariable=r, state=\"disabled\").pack()\n",
    "\n",
    "Label(root, text=\"\").pack()  # Separador\n",
    "\n",
    "Button(root, text=\"Suma\", command=sumar, fg=\"white\", bg=\"green\").pack(side=\"left\")\n",
    "Button(root, text=\"Resta\", command=resta, fg=\"white\", bg=\"orange\").pack(side=\"left\")\n",
    "Button(root, text=\"Producto\", command=producto, fg=\"white\", bg=\"blue\").pack(side=\"left\")\n",
    "Button(root, text=\"División\", command=dividir, fg=\"white\", bg=\"red\").pack(side=\"left\")\n",
    "\n",
    "# Finalmente bucle de la aplicación\n",
    "root.mainloop()"
   ]
  }
 ],
 "metadata": {
  "kernelspec": {
   "display_name": "Python 3",
   "language": "python",
   "name": "python3"
  },
  "language_info": {
   "codemirror_mode": {
    "name": "ipython",
    "version": 3
   },
   "file_extension": ".py",
   "mimetype": "text/x-python",
   "name": "python",
   "nbconvert_exporter": "python",
   "pygments_lexer": "ipython3",
   "version": "3.7.3"
  }
 },
 "nbformat": 4,
 "nbformat_minor": 2
}
